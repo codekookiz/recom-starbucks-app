{
 "cells": [
  {
   "cell_type": "code",
   "execution_count": 1,
   "metadata": {},
   "outputs": [],
   "source": [
    "import pandas as pd, matplotlib.pylab as plt"
   ]
  },
  {
   "cell_type": "code",
   "execution_count": 4,
   "metadata": {},
   "outputs": [
    {
     "data": {
      "application/vnd.microsoft.datawrangler.viewer.v0+json": {
       "columns": [
        {
         "name": "index",
         "rawType": "int64",
         "type": "integer"
        },
        {
         "name": "ID",
         "rawType": "object",
         "type": "string"
        },
        {
         "name": "음료명",
         "rawType": "object",
         "type": "string"
        },
        {
         "name": "사이즈",
         "rawType": "object",
         "type": "string"
        },
        {
         "name": "유제품",
         "rawType": "object",
         "type": "string"
        },
        {
         "name": "주문 수",
         "rawType": "int64",
         "type": "integer"
        }
       ],
       "conversionMethod": "pd.DataFrame",
       "ref": "316cc2be-a0c7-43ed-8d32-0126f2ff4c2f",
       "rows": [
        [
         "0",
         "abc",
         "오늘의 커피",
         "Tall",
         "X",
         "3"
        ],
        [
         "1",
         "abc",
         "오늘의 커피",
         "Grande",
         "X",
         "1"
        ],
        [
         "2",
         "def",
         "자바 칩 프라푸치노",
         "Venti",
         "O",
         "2"
        ],
        [
         "3",
         "def",
         "나이트로 콜드 브루",
         "Tall",
         "X",
         "1"
        ],
        [
         "4",
         "ghi",
         "아이스 커피",
         "Tall",
         "X",
         "2"
        ],
        [
         "5",
         "ghi",
         "헤이즐넛 클라우드 모카",
         "Tall",
         "O",
         "3"
        ],
        [
         "6",
         "abc",
         "카페 아메리카노",
         "Venti",
         "X",
         "5"
        ],
        [
         "7",
         "abc",
         "아이스 카푸치노",
         "Grande",
         "O",
         "2"
        ],
        [
         "8",
         "def",
         "초콜릿 크림 칩 프라푸치노",
         "Tall",
         "O",
         "2"
        ],
        [
         "9",
         "abc",
         "에스프레소 프라푸치노",
         "Venti",
         "O",
         "4"
        ],
        [
         "10",
         "ghi",
         "딸기 아사이 레모네이드 스타벅스 리프레셔",
         "Tall",
         "X",
         "1"
        ],
        [
         "11",
         "abc",
         "쿨 라임 피지오",
         "Tall",
         "X",
         "1"
        ],
        [
         "12",
         "def",
         "복숭아 아이스 티",
         "Grande",
         "X",
         "4"
        ],
        [
         "13",
         "ghi",
         "아이스 스타벅스 클래식 밀크 티",
         "Tall",
         "O",
         "2"
        ],
        [
         "14",
         "def",
         "유자 민트 티",
         "Venti",
         "X",
         "1"
        ],
        [
         "15",
         "def",
         "아이스 자몽 허니 블랙 티",
         "Grande",
         "X",
         "7"
        ]
       ],
       "shape": {
        "columns": 5,
        "rows": 16
       }
      },
      "text/html": [
       "<div>\n",
       "<style scoped>\n",
       "    .dataframe tbody tr th:only-of-type {\n",
       "        vertical-align: middle;\n",
       "    }\n",
       "\n",
       "    .dataframe tbody tr th {\n",
       "        vertical-align: top;\n",
       "    }\n",
       "\n",
       "    .dataframe thead th {\n",
       "        text-align: right;\n",
       "    }\n",
       "</style>\n",
       "<table border=\"1\" class=\"dataframe\">\n",
       "  <thead>\n",
       "    <tr style=\"text-align: right;\">\n",
       "      <th></th>\n",
       "      <th>ID</th>\n",
       "      <th>음료명</th>\n",
       "      <th>사이즈</th>\n",
       "      <th>유제품</th>\n",
       "      <th>주문 수</th>\n",
       "    </tr>\n",
       "  </thead>\n",
       "  <tbody>\n",
       "    <tr>\n",
       "      <th>0</th>\n",
       "      <td>abc</td>\n",
       "      <td>오늘의 커피</td>\n",
       "      <td>Tall</td>\n",
       "      <td>X</td>\n",
       "      <td>3</td>\n",
       "    </tr>\n",
       "    <tr>\n",
       "      <th>1</th>\n",
       "      <td>abc</td>\n",
       "      <td>오늘의 커피</td>\n",
       "      <td>Grande</td>\n",
       "      <td>X</td>\n",
       "      <td>1</td>\n",
       "    </tr>\n",
       "    <tr>\n",
       "      <th>2</th>\n",
       "      <td>def</td>\n",
       "      <td>자바 칩 프라푸치노</td>\n",
       "      <td>Venti</td>\n",
       "      <td>O</td>\n",
       "      <td>2</td>\n",
       "    </tr>\n",
       "    <tr>\n",
       "      <th>3</th>\n",
       "      <td>def</td>\n",
       "      <td>나이트로 콜드 브루</td>\n",
       "      <td>Tall</td>\n",
       "      <td>X</td>\n",
       "      <td>1</td>\n",
       "    </tr>\n",
       "    <tr>\n",
       "      <th>4</th>\n",
       "      <td>ghi</td>\n",
       "      <td>아이스 커피</td>\n",
       "      <td>Tall</td>\n",
       "      <td>X</td>\n",
       "      <td>2</td>\n",
       "    </tr>\n",
       "    <tr>\n",
       "      <th>5</th>\n",
       "      <td>ghi</td>\n",
       "      <td>헤이즐넛 클라우드 모카</td>\n",
       "      <td>Tall</td>\n",
       "      <td>O</td>\n",
       "      <td>3</td>\n",
       "    </tr>\n",
       "    <tr>\n",
       "      <th>6</th>\n",
       "      <td>abc</td>\n",
       "      <td>카페 아메리카노</td>\n",
       "      <td>Venti</td>\n",
       "      <td>X</td>\n",
       "      <td>5</td>\n",
       "    </tr>\n",
       "    <tr>\n",
       "      <th>7</th>\n",
       "      <td>abc</td>\n",
       "      <td>아이스 카푸치노</td>\n",
       "      <td>Grande</td>\n",
       "      <td>O</td>\n",
       "      <td>2</td>\n",
       "    </tr>\n",
       "    <tr>\n",
       "      <th>8</th>\n",
       "      <td>def</td>\n",
       "      <td>초콜릿 크림 칩 프라푸치노</td>\n",
       "      <td>Tall</td>\n",
       "      <td>O</td>\n",
       "      <td>2</td>\n",
       "    </tr>\n",
       "    <tr>\n",
       "      <th>9</th>\n",
       "      <td>abc</td>\n",
       "      <td>에스프레소 프라푸치노</td>\n",
       "      <td>Venti</td>\n",
       "      <td>O</td>\n",
       "      <td>4</td>\n",
       "    </tr>\n",
       "    <tr>\n",
       "      <th>10</th>\n",
       "      <td>ghi</td>\n",
       "      <td>딸기 아사이 레모네이드 스타벅스 리프레셔</td>\n",
       "      <td>Tall</td>\n",
       "      <td>X</td>\n",
       "      <td>1</td>\n",
       "    </tr>\n",
       "    <tr>\n",
       "      <th>11</th>\n",
       "      <td>abc</td>\n",
       "      <td>쿨 라임 피지오</td>\n",
       "      <td>Tall</td>\n",
       "      <td>X</td>\n",
       "      <td>1</td>\n",
       "    </tr>\n",
       "    <tr>\n",
       "      <th>12</th>\n",
       "      <td>def</td>\n",
       "      <td>복숭아 아이스 티</td>\n",
       "      <td>Grande</td>\n",
       "      <td>X</td>\n",
       "      <td>4</td>\n",
       "    </tr>\n",
       "    <tr>\n",
       "      <th>13</th>\n",
       "      <td>ghi</td>\n",
       "      <td>아이스 스타벅스 클래식 밀크 티</td>\n",
       "      <td>Tall</td>\n",
       "      <td>O</td>\n",
       "      <td>2</td>\n",
       "    </tr>\n",
       "    <tr>\n",
       "      <th>14</th>\n",
       "      <td>def</td>\n",
       "      <td>유자 민트 티</td>\n",
       "      <td>Venti</td>\n",
       "      <td>X</td>\n",
       "      <td>1</td>\n",
       "    </tr>\n",
       "    <tr>\n",
       "      <th>15</th>\n",
       "      <td>def</td>\n",
       "      <td>아이스 자몽 허니 블랙 티</td>\n",
       "      <td>Grande</td>\n",
       "      <td>X</td>\n",
       "      <td>7</td>\n",
       "    </tr>\n",
       "  </tbody>\n",
       "</table>\n",
       "</div>"
      ],
      "text/plain": [
       "     ID                     음료명     사이즈 유제품  주문 수\n",
       "0   abc                  오늘의 커피    Tall   X     3\n",
       "1   abc                  오늘의 커피  Grande   X     1\n",
       "2   def              자바 칩 프라푸치노   Venti   O     2\n",
       "3   def              나이트로 콜드 브루    Tall   X     1\n",
       "4   ghi                  아이스 커피    Tall   X     2\n",
       "5   ghi            헤이즐넛 클라우드 모카    Tall   O     3\n",
       "6   abc                카페 아메리카노   Venti   X     5\n",
       "7   abc                아이스 카푸치노  Grande   O     2\n",
       "8   def          초콜릿 크림 칩 프라푸치노    Tall   O     2\n",
       "9   abc             에스프레소 프라푸치노   Venti   O     4\n",
       "10  ghi  딸기 아사이 레모네이드 스타벅스 리프레셔    Tall   X     1\n",
       "11  abc                쿨 라임 피지오    Tall   X     1\n",
       "12  def               복숭아 아이스 티  Grande   X     4\n",
       "13  ghi       아이스 스타벅스 클래식 밀크 티    Tall   O     2\n",
       "14  def                 유자 민트 티   Venti   X     1\n",
       "15  def          아이스 자몽 허니 블랙 티  Grande   X     7"
      ]
     },
     "execution_count": 4,
     "metadata": {},
     "output_type": "execute_result"
    }
   ],
   "source": [
    "df = pd.read_csv('../data/order_data.csv')\n",
    "df"
   ]
  },
  {
   "cell_type": "code",
   "execution_count": 5,
   "metadata": {},
   "outputs": [
    {
     "data": {
      "application/vnd.microsoft.datawrangler.viewer.v0+json": {
       "columns": [
        {
         "name": "ID",
         "rawType": "object",
         "type": "string"
        },
        {
         "name": "나이트로 콜드 브루",
         "rawType": "float64",
         "type": "float"
        },
        {
         "name": "딸기 아사이 레모네이드 스타벅스 리프레셔",
         "rawType": "float64",
         "type": "float"
        },
        {
         "name": "복숭아 아이스 티",
         "rawType": "float64",
         "type": "float"
        },
        {
         "name": "아이스 스타벅스 클래식 밀크 티",
         "rawType": "float64",
         "type": "float"
        },
        {
         "name": "아이스 자몽 허니 블랙 티",
         "rawType": "float64",
         "type": "float"
        },
        {
         "name": "아이스 카푸치노",
         "rawType": "float64",
         "type": "float"
        },
        {
         "name": "아이스 커피",
         "rawType": "float64",
         "type": "float"
        },
        {
         "name": "에스프레소 프라푸치노",
         "rawType": "float64",
         "type": "float"
        },
        {
         "name": "오늘의 커피",
         "rawType": "float64",
         "type": "float"
        },
        {
         "name": "유자 민트 티",
         "rawType": "float64",
         "type": "float"
        },
        {
         "name": "자바 칩 프라푸치노",
         "rawType": "float64",
         "type": "float"
        },
        {
         "name": "초콜릿 크림 칩 프라푸치노",
         "rawType": "float64",
         "type": "float"
        },
        {
         "name": "카페 아메리카노",
         "rawType": "float64",
         "type": "float"
        },
        {
         "name": "쿨 라임 피지오",
         "rawType": "float64",
         "type": "float"
        },
        {
         "name": "헤이즐넛 클라우드 모카",
         "rawType": "float64",
         "type": "float"
        }
       ],
       "conversionMethod": "pd.DataFrame",
       "ref": "c4ba5937-7ca3-4862-905c-0b8732c91836",
       "rows": [
        [
         "abc",
         null,
         null,
         null,
         null,
         null,
         "2.0",
         null,
         "4.0",
         "4.0",
         null,
         null,
         null,
         "5.0",
         "1.0",
         null
        ],
        [
         "def",
         "1.0",
         null,
         "4.0",
         null,
         "7.0",
         null,
         null,
         null,
         null,
         "1.0",
         "2.0",
         "2.0",
         null,
         null,
         null
        ],
        [
         "ghi",
         null,
         "1.0",
         null,
         "2.0",
         null,
         null,
         "2.0",
         null,
         null,
         null,
         null,
         null,
         null,
         null,
         "3.0"
        ]
       ],
       "shape": {
        "columns": 15,
        "rows": 3
       }
      },
      "text/html": [
       "<div>\n",
       "<style scoped>\n",
       "    .dataframe tbody tr th:only-of-type {\n",
       "        vertical-align: middle;\n",
       "    }\n",
       "\n",
       "    .dataframe tbody tr th {\n",
       "        vertical-align: top;\n",
       "    }\n",
       "\n",
       "    .dataframe thead th {\n",
       "        text-align: right;\n",
       "    }\n",
       "</style>\n",
       "<table border=\"1\" class=\"dataframe\">\n",
       "  <thead>\n",
       "    <tr style=\"text-align: right;\">\n",
       "      <th>음료명</th>\n",
       "      <th>나이트로 콜드 브루</th>\n",
       "      <th>딸기 아사이 레모네이드 스타벅스 리프레셔</th>\n",
       "      <th>복숭아 아이스 티</th>\n",
       "      <th>아이스 스타벅스 클래식 밀크 티</th>\n",
       "      <th>아이스 자몽 허니 블랙 티</th>\n",
       "      <th>아이스 카푸치노</th>\n",
       "      <th>아이스 커피</th>\n",
       "      <th>에스프레소 프라푸치노</th>\n",
       "      <th>오늘의 커피</th>\n",
       "      <th>유자 민트 티</th>\n",
       "      <th>자바 칩 프라푸치노</th>\n",
       "      <th>초콜릿 크림 칩 프라푸치노</th>\n",
       "      <th>카페 아메리카노</th>\n",
       "      <th>쿨 라임 피지오</th>\n",
       "      <th>헤이즐넛 클라우드 모카</th>\n",
       "    </tr>\n",
       "    <tr>\n",
       "      <th>ID</th>\n",
       "      <th></th>\n",
       "      <th></th>\n",
       "      <th></th>\n",
       "      <th></th>\n",
       "      <th></th>\n",
       "      <th></th>\n",
       "      <th></th>\n",
       "      <th></th>\n",
       "      <th></th>\n",
       "      <th></th>\n",
       "      <th></th>\n",
       "      <th></th>\n",
       "      <th></th>\n",
       "      <th></th>\n",
       "      <th></th>\n",
       "    </tr>\n",
       "  </thead>\n",
       "  <tbody>\n",
       "    <tr>\n",
       "      <th>abc</th>\n",
       "      <td>NaN</td>\n",
       "      <td>NaN</td>\n",
       "      <td>NaN</td>\n",
       "      <td>NaN</td>\n",
       "      <td>NaN</td>\n",
       "      <td>2.0</td>\n",
       "      <td>NaN</td>\n",
       "      <td>4.0</td>\n",
       "      <td>4.0</td>\n",
       "      <td>NaN</td>\n",
       "      <td>NaN</td>\n",
       "      <td>NaN</td>\n",
       "      <td>5.0</td>\n",
       "      <td>1.0</td>\n",
       "      <td>NaN</td>\n",
       "    </tr>\n",
       "    <tr>\n",
       "      <th>def</th>\n",
       "      <td>1.0</td>\n",
       "      <td>NaN</td>\n",
       "      <td>4.0</td>\n",
       "      <td>NaN</td>\n",
       "      <td>7.0</td>\n",
       "      <td>NaN</td>\n",
       "      <td>NaN</td>\n",
       "      <td>NaN</td>\n",
       "      <td>NaN</td>\n",
       "      <td>1.0</td>\n",
       "      <td>2.0</td>\n",
       "      <td>2.0</td>\n",
       "      <td>NaN</td>\n",
       "      <td>NaN</td>\n",
       "      <td>NaN</td>\n",
       "    </tr>\n",
       "    <tr>\n",
       "      <th>ghi</th>\n",
       "      <td>NaN</td>\n",
       "      <td>1.0</td>\n",
       "      <td>NaN</td>\n",
       "      <td>2.0</td>\n",
       "      <td>NaN</td>\n",
       "      <td>NaN</td>\n",
       "      <td>2.0</td>\n",
       "      <td>NaN</td>\n",
       "      <td>NaN</td>\n",
       "      <td>NaN</td>\n",
       "      <td>NaN</td>\n",
       "      <td>NaN</td>\n",
       "      <td>NaN</td>\n",
       "      <td>NaN</td>\n",
       "      <td>3.0</td>\n",
       "    </tr>\n",
       "  </tbody>\n",
       "</table>\n",
       "</div>"
      ],
      "text/plain": [
       "음료명  나이트로 콜드 브루  딸기 아사이 레모네이드 스타벅스 리프레셔  복숭아 아이스 티  아이스 스타벅스 클래식 밀크 티  \\\n",
       "ID                                                                      \n",
       "abc         NaN                     NaN        NaN                NaN   \n",
       "def         1.0                     NaN        4.0                NaN   \n",
       "ghi         NaN                     1.0        NaN                2.0   \n",
       "\n",
       "음료명  아이스 자몽 허니 블랙 티  아이스 카푸치노  아이스 커피  에스프레소 프라푸치노  오늘의 커피  유자 민트 티  \\\n",
       "ID                                                                    \n",
       "abc             NaN       2.0     NaN          4.0     4.0      NaN   \n",
       "def             7.0       NaN     NaN          NaN     NaN      1.0   \n",
       "ghi             NaN       NaN     2.0          NaN     NaN      NaN   \n",
       "\n",
       "음료명  자바 칩 프라푸치노  초콜릿 크림 칩 프라푸치노  카페 아메리카노  쿨 라임 피지오  헤이즐넛 클라우드 모카  \n",
       "ID                                                                 \n",
       "abc         NaN             NaN       5.0       1.0           NaN  \n",
       "def         2.0             2.0       NaN       NaN           NaN  \n",
       "ghi         NaN             NaN       NaN       NaN           3.0  "
      ]
     },
     "execution_count": 5,
     "metadata": {},
     "output_type": "execute_result"
    }
   ],
   "source": [
    "df_matrix = df.pivot_table(index='ID', columns='음료명', values='주문 수', aggfunc='sum')\n",
    "df_matrix"
   ]
  },
  {
   "cell_type": "code",
   "execution_count": 6,
   "metadata": {},
   "outputs": [
    {
     "data": {
      "text/plain": [
       "1"
      ]
     },
     "execution_count": 6,
     "metadata": {},
     "output_type": "execute_result"
    }
   ],
   "source": [
    "df_matrix['오늘의 커피'].notna().sum()"
   ]
  },
  {
   "cell_type": "code",
   "execution_count": 7,
   "metadata": {},
   "outputs": [],
   "source": [
    "df_a = df_matrix.corr(numeric_only=True)['오늘의 커피'].sort_values(ascending=False).to_frame()"
   ]
  },
  {
   "cell_type": "code",
   "execution_count": 8,
   "metadata": {},
   "outputs": [],
   "source": [
    "df_b = df.groupby('음료명')['주문 수'].count()"
   ]
  },
  {
   "cell_type": "code",
   "execution_count": 9,
   "metadata": {},
   "outputs": [
    {
     "data": {
      "application/vnd.microsoft.datawrangler.viewer.v0+json": {
       "columns": [
        {
         "name": "음료명",
         "rawType": "object",
         "type": "string"
        },
        {
         "name": "오늘의 커피",
         "rawType": "float64",
         "type": "float"
        },
        {
         "name": "주문 수",
         "rawType": "int64",
         "type": "integer"
        }
       ],
       "conversionMethod": "pd.DataFrame",
       "ref": "66dbeb6e-b827-4f67-9203-602402ec6faa",
       "rows": [
        [
         "나이트로 콜드 브루",
         null,
         "1"
        ],
        [
         "딸기 아사이 레모네이드 스타벅스 리프레셔",
         null,
         "1"
        ],
        [
         "복숭아 아이스 티",
         null,
         "1"
        ],
        [
         "아이스 스타벅스 클래식 밀크 티",
         null,
         "1"
        ],
        [
         "아이스 자몽 허니 블랙 티",
         null,
         "1"
        ],
        [
         "아이스 카푸치노",
         null,
         "1"
        ],
        [
         "아이스 커피",
         null,
         "1"
        ],
        [
         "에스프레소 프라푸치노",
         null,
         "1"
        ],
        [
         "오늘의 커피",
         null,
         "2"
        ],
        [
         "유자 민트 티",
         null,
         "1"
        ],
        [
         "자바 칩 프라푸치노",
         null,
         "1"
        ],
        [
         "초콜릿 크림 칩 프라푸치노",
         null,
         "1"
        ],
        [
         "카페 아메리카노",
         null,
         "1"
        ],
        [
         "쿨 라임 피지오",
         null,
         "1"
        ],
        [
         "헤이즐넛 클라우드 모카",
         null,
         "1"
        ]
       ],
       "shape": {
        "columns": 2,
        "rows": 15
       }
      },
      "text/html": [
       "<div>\n",
       "<style scoped>\n",
       "    .dataframe tbody tr th:only-of-type {\n",
       "        vertical-align: middle;\n",
       "    }\n",
       "\n",
       "    .dataframe tbody tr th {\n",
       "        vertical-align: top;\n",
       "    }\n",
       "\n",
       "    .dataframe thead th {\n",
       "        text-align: right;\n",
       "    }\n",
       "</style>\n",
       "<table border=\"1\" class=\"dataframe\">\n",
       "  <thead>\n",
       "    <tr style=\"text-align: right;\">\n",
       "      <th></th>\n",
       "      <th>오늘의 커피</th>\n",
       "      <th>주문 수</th>\n",
       "    </tr>\n",
       "    <tr>\n",
       "      <th>음료명</th>\n",
       "      <th></th>\n",
       "      <th></th>\n",
       "    </tr>\n",
       "  </thead>\n",
       "  <tbody>\n",
       "    <tr>\n",
       "      <th>나이트로 콜드 브루</th>\n",
       "      <td>NaN</td>\n",
       "      <td>1</td>\n",
       "    </tr>\n",
       "    <tr>\n",
       "      <th>딸기 아사이 레모네이드 스타벅스 리프레셔</th>\n",
       "      <td>NaN</td>\n",
       "      <td>1</td>\n",
       "    </tr>\n",
       "    <tr>\n",
       "      <th>복숭아 아이스 티</th>\n",
       "      <td>NaN</td>\n",
       "      <td>1</td>\n",
       "    </tr>\n",
       "    <tr>\n",
       "      <th>아이스 스타벅스 클래식 밀크 티</th>\n",
       "      <td>NaN</td>\n",
       "      <td>1</td>\n",
       "    </tr>\n",
       "    <tr>\n",
       "      <th>아이스 자몽 허니 블랙 티</th>\n",
       "      <td>NaN</td>\n",
       "      <td>1</td>\n",
       "    </tr>\n",
       "    <tr>\n",
       "      <th>아이스 카푸치노</th>\n",
       "      <td>NaN</td>\n",
       "      <td>1</td>\n",
       "    </tr>\n",
       "    <tr>\n",
       "      <th>아이스 커피</th>\n",
       "      <td>NaN</td>\n",
       "      <td>1</td>\n",
       "    </tr>\n",
       "    <tr>\n",
       "      <th>에스프레소 프라푸치노</th>\n",
       "      <td>NaN</td>\n",
       "      <td>1</td>\n",
       "    </tr>\n",
       "    <tr>\n",
       "      <th>오늘의 커피</th>\n",
       "      <td>NaN</td>\n",
       "      <td>2</td>\n",
       "    </tr>\n",
       "    <tr>\n",
       "      <th>유자 민트 티</th>\n",
       "      <td>NaN</td>\n",
       "      <td>1</td>\n",
       "    </tr>\n",
       "    <tr>\n",
       "      <th>자바 칩 프라푸치노</th>\n",
       "      <td>NaN</td>\n",
       "      <td>1</td>\n",
       "    </tr>\n",
       "    <tr>\n",
       "      <th>초콜릿 크림 칩 프라푸치노</th>\n",
       "      <td>NaN</td>\n",
       "      <td>1</td>\n",
       "    </tr>\n",
       "    <tr>\n",
       "      <th>카페 아메리카노</th>\n",
       "      <td>NaN</td>\n",
       "      <td>1</td>\n",
       "    </tr>\n",
       "    <tr>\n",
       "      <th>쿨 라임 피지오</th>\n",
       "      <td>NaN</td>\n",
       "      <td>1</td>\n",
       "    </tr>\n",
       "    <tr>\n",
       "      <th>헤이즐넛 클라우드 모카</th>\n",
       "      <td>NaN</td>\n",
       "      <td>1</td>\n",
       "    </tr>\n",
       "  </tbody>\n",
       "</table>\n",
       "</div>"
      ],
      "text/plain": [
       "                        오늘의 커피  주문 수\n",
       "음료명                                 \n",
       "나이트로 콜드 브루                 NaN     1\n",
       "딸기 아사이 레모네이드 스타벅스 리프레셔     NaN     1\n",
       "복숭아 아이스 티                  NaN     1\n",
       "아이스 스타벅스 클래식 밀크 티          NaN     1\n",
       "아이스 자몽 허니 블랙 티             NaN     1\n",
       "아이스 카푸치노                   NaN     1\n",
       "아이스 커피                     NaN     1\n",
       "에스프레소 프라푸치노                NaN     1\n",
       "오늘의 커피                     NaN     2\n",
       "유자 민트 티                    NaN     1\n",
       "자바 칩 프라푸치노                 NaN     1\n",
       "초콜릿 크림 칩 프라푸치노             NaN     1\n",
       "카페 아메리카노                   NaN     1\n",
       "쿨 라임 피지오                   NaN     1\n",
       "헤이즐넛 클라우드 모카               NaN     1"
      ]
     },
     "execution_count": 9,
     "metadata": {},
     "output_type": "execute_result"
    }
   ],
   "source": [
    "df_1 = pd.merge(df_a, df_b, on='음료명')\n",
    "df_1"
   ]
  },
  {
   "cell_type": "code",
   "execution_count": null,
   "metadata": {},
   "outputs": [],
   "source": []
  }
 ],
 "metadata": {
  "kernelspec": {
   "display_name": "hi",
   "language": "python",
   "name": "python3"
  },
  "language_info": {
   "codemirror_mode": {
    "name": "ipython",
    "version": 3
   },
   "file_extension": ".py",
   "mimetype": "text/x-python",
   "name": "python",
   "nbconvert_exporter": "python",
   "pygments_lexer": "ipython3",
   "version": "3.10.16"
  }
 },
 "nbformat": 4,
 "nbformat_minor": 2
}
