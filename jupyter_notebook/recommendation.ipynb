{
 "cells": [
  {
   "cell_type": "code",
   "execution_count": 2,
   "metadata": {},
   "outputs": [],
   "source": [
    "import pandas as pd, matplotlib.pylab as plt"
   ]
  },
  {
   "cell_type": "code",
   "execution_count": 3,
   "metadata": {},
   "outputs": [
    {
     "data": {
      "application/vnd.microsoft.datawrangler.viewer.v0+json": {
       "columns": [
        {
         "name": "index",
         "rawType": "int64",
         "type": "integer"
        },
        {
         "name": "ID",
         "rawType": "object",
         "type": "string"
        },
        {
         "name": "음료명",
         "rawType": "object",
         "type": "string"
        },
        {
         "name": "사이즈 및 유제품",
         "rawType": "object",
         "type": "string"
        },
        {
         "name": "주문 수",
         "rawType": "object",
         "type": "string"
        }
       ],
       "conversionMethod": "pd.DataFrame",
       "ref": "a72ae6ff-81d1-48e0-8c88-de07192147e3",
       "rows": [],
       "shape": {
        "columns": 4,
        "rows": 0
       }
      },
      "text/html": [
       "<div>\n",
       "<style scoped>\n",
       "    .dataframe tbody tr th:only-of-type {\n",
       "        vertical-align: middle;\n",
       "    }\n",
       "\n",
       "    .dataframe tbody tr th {\n",
       "        vertical-align: top;\n",
       "    }\n",
       "\n",
       "    .dataframe thead th {\n",
       "        text-align: right;\n",
       "    }\n",
       "</style>\n",
       "<table border=\"1\" class=\"dataframe\">\n",
       "  <thead>\n",
       "    <tr style=\"text-align: right;\">\n",
       "      <th></th>\n",
       "      <th>ID</th>\n",
       "      <th>음료명</th>\n",
       "      <th>사이즈 및 유제품</th>\n",
       "      <th>주문 수</th>\n",
       "    </tr>\n",
       "  </thead>\n",
       "  <tbody>\n",
       "  </tbody>\n",
       "</table>\n",
       "</div>"
      ],
      "text/plain": [
       "Empty DataFrame\n",
       "Columns: [ID, 음료명, 사이즈 및 유제품, 주문 수]\n",
       "Index: []"
      ]
     },
     "execution_count": 3,
     "metadata": {},
     "output_type": "execute_result"
    }
   ],
   "source": [
    "df = pd.read_csv('../data/order_data.csv')\n",
    "df"
   ]
  },
  {
   "cell_type": "code",
   "execution_count": 3,
   "metadata": {},
   "outputs": [
    {
     "data": {
      "application/vnd.microsoft.datawrangler.viewer.v0+json": {
       "columns": [
        {
         "name": "ID",
         "rawType": "object",
         "type": "string"
        },
        {
         "name": "오늘의 커피",
         "rawType": "float64",
         "type": "float"
        },
        {
         "name": "자바칩 프라푸치노 (휘핑 제외)",
         "rawType": "float64",
         "type": "float"
        },
        {
         "name": "카페 모카 (휘핑 제외)",
         "rawType": "float64",
         "type": "float"
        },
        {
         "name": "카푸치노",
         "rawType": "float64",
         "type": "float"
        },
        {
         "name": "타조® 티",
         "rawType": "float64",
         "type": "float"
        },
        {
         "name": "화이트 초콜릿 모카 (휘핑 제외)",
         "rawType": "float64",
         "type": "float"
        }
       ],
       "conversionMethod": "pd.DataFrame",
       "ref": "959cea68-80e9-43f3-8cb2-d5ce8079588f",
       "rows": [
        [
         "abc",
         "4.0",
         null,
         "2.0",
         "4.0",
         "1.0",
         "1.0"
        ],
        [
         "def",
         null,
         "3.0",
         null,
         null,
         null,
         null
        ],
        [
         "ghi",
         "3.0",
         null,
         "2.0",
         null,
         null,
         null
        ]
       ],
       "shape": {
        "columns": 6,
        "rows": 3
       }
      },
      "text/html": [
       "<div>\n",
       "<style scoped>\n",
       "    .dataframe tbody tr th:only-of-type {\n",
       "        vertical-align: middle;\n",
       "    }\n",
       "\n",
       "    .dataframe tbody tr th {\n",
       "        vertical-align: top;\n",
       "    }\n",
       "\n",
       "    .dataframe thead th {\n",
       "        text-align: right;\n",
       "    }\n",
       "</style>\n",
       "<table border=\"1\" class=\"dataframe\">\n",
       "  <thead>\n",
       "    <tr style=\"text-align: right;\">\n",
       "      <th>음료명</th>\n",
       "      <th>오늘의 커피</th>\n",
       "      <th>자바칩 프라푸치노 (휘핑 제외)</th>\n",
       "      <th>카페 모카 (휘핑 제외)</th>\n",
       "      <th>카푸치노</th>\n",
       "      <th>타조® 티</th>\n",
       "      <th>화이트 초콜릿 모카 (휘핑 제외)</th>\n",
       "    </tr>\n",
       "    <tr>\n",
       "      <th>ID</th>\n",
       "      <th></th>\n",
       "      <th></th>\n",
       "      <th></th>\n",
       "      <th></th>\n",
       "      <th></th>\n",
       "      <th></th>\n",
       "    </tr>\n",
       "  </thead>\n",
       "  <tbody>\n",
       "    <tr>\n",
       "      <th>abc</th>\n",
       "      <td>4.0</td>\n",
       "      <td>NaN</td>\n",
       "      <td>2.0</td>\n",
       "      <td>4.0</td>\n",
       "      <td>1.0</td>\n",
       "      <td>1.0</td>\n",
       "    </tr>\n",
       "    <tr>\n",
       "      <th>def</th>\n",
       "      <td>NaN</td>\n",
       "      <td>3.0</td>\n",
       "      <td>NaN</td>\n",
       "      <td>NaN</td>\n",
       "      <td>NaN</td>\n",
       "      <td>NaN</td>\n",
       "    </tr>\n",
       "    <tr>\n",
       "      <th>ghi</th>\n",
       "      <td>3.0</td>\n",
       "      <td>NaN</td>\n",
       "      <td>2.0</td>\n",
       "      <td>NaN</td>\n",
       "      <td>NaN</td>\n",
       "      <td>NaN</td>\n",
       "    </tr>\n",
       "  </tbody>\n",
       "</table>\n",
       "</div>"
      ],
      "text/plain": [
       "음료명  오늘의 커피  자바칩 프라푸치노 (휘핑 제외)  카페 모카 (휘핑 제외)  카푸치노  타조® 티  화이트 초콜릿 모카 (휘핑 제외)\n",
       "ID                                                                            \n",
       "abc     4.0                NaN            2.0   4.0    1.0                 1.0\n",
       "def     NaN                3.0            NaN   NaN    NaN                 NaN\n",
       "ghi     3.0                NaN            2.0   NaN    NaN                 NaN"
      ]
     },
     "execution_count": 3,
     "metadata": {},
     "output_type": "execute_result"
    }
   ],
   "source": [
    "df_matrix = df.pivot_table(index='ID', columns='음료명', values='주문 수', aggfunc='sum')\n",
    "df_matrix"
   ]
  },
  {
   "cell_type": "code",
   "execution_count": 4,
   "metadata": {},
   "outputs": [
    {
     "data": {
      "text/plain": [
       "2"
      ]
     },
     "execution_count": 4,
     "metadata": {},
     "output_type": "execute_result"
    }
   ],
   "source": [
    "df_matrix['오늘의 커피'].notna().sum()"
   ]
  },
  {
   "cell_type": "code",
   "execution_count": 5,
   "metadata": {},
   "outputs": [],
   "source": [
    "df_a = df_matrix.corr(numeric_only=True)['오늘의 커피'].sort_values(ascending=False).to_frame()"
   ]
  },
  {
   "cell_type": "code",
   "execution_count": 6,
   "metadata": {},
   "outputs": [],
   "source": [
    "df_b = df.groupby('음료명')['주문 수'].count()"
   ]
  },
  {
   "cell_type": "code",
   "execution_count": 7,
   "metadata": {},
   "outputs": [
    {
     "data": {
      "application/vnd.microsoft.datawrangler.viewer.v0+json": {
       "columns": [
        {
         "name": "음료명",
         "rawType": "object",
         "type": "string"
        },
        {
         "name": "오늘의 커피",
         "rawType": "float64",
         "type": "float"
        },
        {
         "name": "주문 수",
         "rawType": "int64",
         "type": "integer"
        }
       ],
       "conversionMethod": "pd.DataFrame",
       "ref": "460a5231-a7d7-4f13-aca0-46f89fbd0f50",
       "rows": [
        [
         "오늘의 커피",
         "1.0",
         "2"
        ],
        [
         "자바칩 프라푸치노 (휘핑 제외)",
         null,
         "2"
        ],
        [
         "카페 모카 (휘핑 제외)",
         null,
         "2"
        ],
        [
         "카푸치노",
         null,
         "3"
        ],
        [
         "타조® 티",
         null,
         "1"
        ],
        [
         "화이트 초콜릿 모카 (휘핑 제외)",
         null,
         "1"
        ]
       ],
       "shape": {
        "columns": 2,
        "rows": 6
       }
      },
      "text/html": [
       "<div>\n",
       "<style scoped>\n",
       "    .dataframe tbody tr th:only-of-type {\n",
       "        vertical-align: middle;\n",
       "    }\n",
       "\n",
       "    .dataframe tbody tr th {\n",
       "        vertical-align: top;\n",
       "    }\n",
       "\n",
       "    .dataframe thead th {\n",
       "        text-align: right;\n",
       "    }\n",
       "</style>\n",
       "<table border=\"1\" class=\"dataframe\">\n",
       "  <thead>\n",
       "    <tr style=\"text-align: right;\">\n",
       "      <th></th>\n",
       "      <th>오늘의 커피</th>\n",
       "      <th>주문 수</th>\n",
       "    </tr>\n",
       "    <tr>\n",
       "      <th>음료명</th>\n",
       "      <th></th>\n",
       "      <th></th>\n",
       "    </tr>\n",
       "  </thead>\n",
       "  <tbody>\n",
       "    <tr>\n",
       "      <th>오늘의 커피</th>\n",
       "      <td>1.0</td>\n",
       "      <td>2</td>\n",
       "    </tr>\n",
       "    <tr>\n",
       "      <th>자바칩 프라푸치노 (휘핑 제외)</th>\n",
       "      <td>NaN</td>\n",
       "      <td>2</td>\n",
       "    </tr>\n",
       "    <tr>\n",
       "      <th>카페 모카 (휘핑 제외)</th>\n",
       "      <td>NaN</td>\n",
       "      <td>2</td>\n",
       "    </tr>\n",
       "    <tr>\n",
       "      <th>카푸치노</th>\n",
       "      <td>NaN</td>\n",
       "      <td>3</td>\n",
       "    </tr>\n",
       "    <tr>\n",
       "      <th>타조® 티</th>\n",
       "      <td>NaN</td>\n",
       "      <td>1</td>\n",
       "    </tr>\n",
       "    <tr>\n",
       "      <th>화이트 초콜릿 모카 (휘핑 제외)</th>\n",
       "      <td>NaN</td>\n",
       "      <td>1</td>\n",
       "    </tr>\n",
       "  </tbody>\n",
       "</table>\n",
       "</div>"
      ],
      "text/plain": [
       "                    오늘의 커피  주문 수\n",
       "음료명                             \n",
       "오늘의 커피                 1.0     2\n",
       "자바칩 프라푸치노 (휘핑 제외)      NaN     2\n",
       "카페 모카 (휘핑 제외)          NaN     2\n",
       "카푸치노                   NaN     3\n",
       "타조® 티                  NaN     1\n",
       "화이트 초콜릿 모카 (휘핑 제외)     NaN     1"
      ]
     },
     "execution_count": 7,
     "metadata": {},
     "output_type": "execute_result"
    }
   ],
   "source": [
    "df_1 = pd.merge(df_a, df_b, on='음료명')\n",
    "df_1"
   ]
  },
  {
   "cell_type": "code",
   "execution_count": null,
   "metadata": {},
   "outputs": [],
   "source": []
  }
 ],
 "metadata": {
  "kernelspec": {
   "display_name": "hi",
   "language": "python",
   "name": "python3"
  },
  "language_info": {
   "codemirror_mode": {
    "name": "ipython",
    "version": 3
   },
   "file_extension": ".py",
   "mimetype": "text/x-python",
   "name": "python",
   "nbconvert_exporter": "python",
   "pygments_lexer": "ipython3",
   "version": "3.10.16"
  }
 },
 "nbformat": 4,
 "nbformat_minor": 2
}
